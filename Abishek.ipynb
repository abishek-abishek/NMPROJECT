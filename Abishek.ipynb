{
  "nbformat": 4,
  "nbformat_minor": 0,
  "metadata": {
    "colab": {
      "provenance": [],
      "authorship_tag": "ABX9TyMmYPUPXI+xBaCb5jz8AO7M",
      "include_colab_link": true
    },
    "kernelspec": {
      "name": "python3",
      "display_name": "Python 3"
    },
    "language_info": {
      "name": "python"
    }
  },
  "cells": [
    {
      "cell_type": "markdown",
      "metadata": {
        "id": "view-in-github",
        "colab_type": "text"
      },
      "source": [
        "<a href=\"https://colab.research.google.com/github/abishek-abishek/NMPROJECT/blob/main/Abishek.ipynb\" target=\"_parent\"><img src=\"https://colab.research.google.com/assets/colab-badge.svg\" alt=\"Open In Colab\"/></a>"
      ]
    },
    {
      "cell_type": "code",
      "execution_count": 5,
      "metadata": {
        "colab": {
          "base_uri": "https://localhost:8080/"
        },
        "id": "hvCH9df0XETc",
        "outputId": "e2741b71-6d79-454f-8215-a94d368b144d"
      },
      "outputs": [
        {
          "output_type": "stream",
          "name": "stderr",
          "text": [
            "Device set to use cpu\n"
          ]
        },
        {
          "output_type": "stream",
          "name": "stdout",
          "text": [
            "Post: I just got a new job and I’m so excited!\n",
            "Predicted Emotion: joy (Confidence: 0.96)\n",
            "------------------------------------------------------------\n",
            "Post: I'm feeling really down today.\n",
            "Predicted Emotion: sadness (Confidence: 0.99)\n",
            "------------------------------------------------------------\n",
            "Post: Why is everything so stressful?\n",
            "Predicted Emotion: fear (Confidence: 0.36)\n",
            "------------------------------------------------------------\n",
            "Post: Life is beautiful and I love my friends.\n",
            "Predicted Emotion: joy (Confidence: 0.98)\n",
            "------------------------------------------------------------\n",
            "Post: I'm scared about the future.\n",
            "Predicted Emotion: fear (Confidence: 0.99)\n",
            "------------------------------------------------------------\n",
            "Post: This makes me so angry!\n",
            "Predicted Emotion: anger (Confidence: 0.99)\n",
            "------------------------------------------------------------\n"
          ]
        }
      ],
      "source": [
        "from transformers import pipeline\n",
        "\n",
        "# Load a pre-trained emotion detection model\n",
        "emotion_classifier = pipeline(\n",
        "    \"text-classification\",\n",
        "    model=\"j-hartmann/emotion-english-distilroberta-base\",\n",
        "    return_all_scores=True\n",
        ")\n",
        "\n",
        "# Sample social media text data (can be tweets, comments, etc.)\n",
        "social_media_posts = [\n",
        "    \"I just got a new job and I’m so excited!\",\n",
        "    \"I'm feeling really down today.\",\n",
        "    \"Why is everything so stressful?\",\n",
        "    \"Life is beautiful and I love my friends.\",\n",
        "    \"I'm scared about the future.\",\n",
        "    \"This makes me so angry!\"\n",
        "]\n",
        "\n",
        "# Analyze each post\n",
        "for post in social_media_posts:\n",
        "    results = emotion_classifier(post)[0]\n",
        "    top_emotion = max(results, key=lambda x: x['score'])\n",
        "    print(f\"Post: {post}\")\n",
        "    print(f\"Predicted Emotion: {top_emotion['label']} (Confidence: {top_emotion['score']:.2f})\")\n",
        "    print('-' * 60)"
      ]
    }
  ]
}